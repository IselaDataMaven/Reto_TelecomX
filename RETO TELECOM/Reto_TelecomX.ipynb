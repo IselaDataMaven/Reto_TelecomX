{
 "cells": [
  {
   "cell_type": "code",
   "execution_count": 1,
   "id": "07d260c6",
   "metadata": {},
   "outputs": [
    {
     "ename": "ModuleNotFoundError",
     "evalue": "No module named 'pandas'",
     "output_type": "error",
     "traceback": [
      "\u001b[1;31m---------------------------------------------------------------------------\u001b[0m",
      "\u001b[1;31mModuleNotFoundError\u001b[0m                       Traceback (most recent call last)",
      "Cell \u001b[1;32mIn[1], line 4\u001b[0m\n\u001b[0;32m      1\u001b[0m \u001b[38;5;66;03m# -----------------------------\u001b[39;00m\n\u001b[0;32m      2\u001b[0m \u001b[38;5;66;03m# 🔹 1. Librerías necesarias\u001b[39;00m\n\u001b[0;32m      3\u001b[0m \u001b[38;5;66;03m# -----------------------------\u001b[39;00m\n\u001b[1;32m----> 4\u001b[0m \u001b[38;5;28;01mimport\u001b[39;00m\u001b[38;5;250m \u001b[39m\u001b[38;5;21;01mpandas\u001b[39;00m\u001b[38;5;250m \u001b[39m\u001b[38;5;28;01mas\u001b[39;00m\u001b[38;5;250m \u001b[39m\u001b[38;5;21;01mpd\u001b[39;00m\n\u001b[0;32m      5\u001b[0m \u001b[38;5;28;01mimport\u001b[39;00m\u001b[38;5;250m \u001b[39m\u001b[38;5;21;01mrequests\u001b[39;00m\n\u001b[0;32m      6\u001b[0m \u001b[38;5;28;01mimport\u001b[39;00m\u001b[38;5;250m \u001b[39m\u001b[38;5;21;01mplotly\u001b[39;00m\u001b[38;5;21;01m.\u001b[39;00m\u001b[38;5;21;01mexpress\u001b[39;00m\u001b[38;5;250m \u001b[39m\u001b[38;5;28;01mas\u001b[39;00m\u001b[38;5;250m \u001b[39m\u001b[38;5;21;01mpx\u001b[39;00m\n",
      "\u001b[1;31mModuleNotFoundError\u001b[0m: No module named 'pandas'"
     ]
    }
   ],
   "source": [
    "# -----------------------------\n",
    "# 🔹 1. Librerías necesarias\n",
    "# -----------------------------\n",
    "import pandas as pd\n",
    "import requests\n",
    "import plotly.express as px"
   ]
  },
  {
   "cell_type": "code",
   "execution_count": null,
   "id": "3505dad5",
   "metadata": {},
   "outputs": [],
   "source": [
    "# -----------------------------\n",
    "# 🔹 2. Extracción de datos desde JSON (vía URL)\n",
    "# -----------------------------\n",
    "url = \"https://raw.githubusercontent.com/sthemonica/alura-voz/refs/heads/main/Dados/Telco-Customer-Churn.json\"\n",
    "response = requests.get(url)\n",
    "data = response.json()\n",
    "\n"
   ]
  },
  {
   "cell_type": "code",
   "execution_count": null,
   "id": "8a5985c8",
   "metadata": {},
   "outputs": [],
   "source": [
    "# Cargar a DataFrame plano\n",
    "df_plano = pd.json_normalize(data)\n",
    "print(\"✅ Datos cargados exitosamente\")\n",
    "\n",
    "# -----------------------------\n",
    "# 🔹 3. Exploración inicial\n",
    "# -----------------------------\n",
    "# Información general\n",
    "df_plano.info()\n",
    "\n"
   ]
  },
  {
   "cell_type": "code",
   "execution_count": null,
   "id": "91c2d81e",
   "metadata": {},
   "outputs": [],
   "source": [
    "# Duplicados\n",
    "print(f\"🔍 Número de duplicados: {df_plano.duplicated().sum()}\")\n"
   ]
  },
  {
   "cell_type": "code",
   "execution_count": null,
   "id": "89ad9217",
   "metadata": {},
   "outputs": [],
   "source": [
    "# Nulos por columna\n",
    "print(\"🔍 Nulos por columna:\\n\", df_plano.isnull().sum())"
   ]
  },
  {
   "cell_type": "code",
   "execution_count": null,
   "id": "4e3ad7cb",
   "metadata": {},
   "outputs": [],
   "source": [
    "# Vacíos o blancos\n",
    "print(\"🔍 Valores en blanco por columna:\\n\", df_plano.apply(lambda x: x.astype(str).str.strip() == '').sum())\n",
    "\n",
    "# Valores únicos por columna\n",
    "for col in df_plano.columns:\n",
    "    print(f\"\\n🧠 Columna: {col}\")\n",
    "    print(f\"Valores únicos: {df_plano[col].nunique()}\")\n",
    "    if df_plano[col].nunique() < 50:\n",
    "        print(df_plano[col].unique())\n",
    "        print('-' * 50)\n",
    "\n"
   ]
  },
  {
   "cell_type": "code",
   "execution_count": null,
   "id": "f0f98d75",
   "metadata": {},
   "outputs": [],
   "source": [
    "# -----------------------------\n",
    "# 🔹 4. Transformación de columnas\n",
    "# -----------------------------\n",
    "# Convertir 'account.Charges.Total' a numérico\n",
    "df_plano['account.Charges.Total'] = pd.to_numeric(df_plano['account.Charges.Total'], errors='coerce')\n",
    "print(f\"Tipo de dato de 'account.Charges.Total': {df_plano['account.Charges.Total'].dtype}\")\n",
    "\n",
    "# Eliminar filas sin valor en 'Churn'\n",
    "df_plano = df_plano[df_plano['Churn'].str.strip() != '']\n",
    "print(f\"✅ Filas después de limpiar 'Churn': {len(df_plano)}\")\n",
    "\n"
   ]
  },
  {
   "cell_type": "code",
   "execution_count": null,
   "id": "c7b8d01a",
   "metadata": {},
   "outputs": [],
   "source": [
    "# -----------------------------\n",
    "# 🔹 5. Estadísticas y limpieza extra\n",
    "# -----------------------------\n",
    "# Estadísticas básicas\n",
    "print(df_plano.describe(include='all'))\n",
    "\n",
    "# Si creaste una columna temporal, elimínala (seguridad)\n",
    "df_plano = df_plano.drop('Cuentas_Diarias', errors='ignore')\n",
    "\n",
    "# -----------------------------\n",
    "# 🔹 6. Visualización con Plotly\n",
    "# -----------------------------\n",
    "# Histograma: Género vs Cancelación\n",
    "fig = px.histogram(\n",
    "    df_plano,\n",
    "    x='customer.gender',\n",
    "    color='Churn',\n",
    "    barmode='group',\n",
    "    text_auto=True,\n",
    "    title='📊 Cancelaciones por Género'\n",
    ")\n",
    "fig.update_layout(xaxis_title='Género', yaxis_title='Cantidad de Clientes')\n",
    "fig.show()"
   ]
  }
 ],
 "metadata": {
  "kernelspec": {
   "display_name": "mi-entorno",
   "language": "python",
   "name": "python3"
  },
  "language_info": {
   "codemirror_mode": {
    "name": "ipython",
    "version": 3
   },
   "file_extension": ".py",
   "mimetype": "text/x-python",
   "name": "python",
   "nbconvert_exporter": "python",
   "pygments_lexer": "ipython3",
   "version": "3.9.21"
  }
 },
 "nbformat": 4,
 "nbformat_minor": 5
}
