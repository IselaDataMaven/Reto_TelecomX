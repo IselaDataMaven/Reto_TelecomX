{
 "cells": [
  {
   "cell_type": "markdown",
   "id": "e77dd204",
   "metadata": {},
   "source": [
    "# 📊 Análisis de Evasión de Clientes – Telecom X\n",
    "\n",
    "Este notebook analiza los datos de clientes de una empresa de telecomunicaciones para identificar patrones de cancelación (churn)."
   ]
  },
  {
   "cell_type": "markdown",
   "id": "8a8e29e5",
   "metadata": {},
   "source": [
    "## 🔧 Librerías necesarias"
   ]
  },
  {
   "cell_type": "code",
   "execution_count": null,
   "id": "80494154",
   "metadata": {},
   "outputs": [],
   "source": [
    "import pandas as pd\n",
    "import requests\n",
    "import plotly.express as px"
   ]
  },
  {
   "cell_type": "markdown",
   "id": "36514bf0",
   "metadata": {},
   "source": [
    "## 📥 Extracción de datos"
   ]
  },
  {
   "cell_type": "code",
   "execution_count": null,
   "id": "7cb920cf",
   "metadata": {},
   "outputs": [],
   "source": [
    "url = \"https://raw.githubusercontent.com/sthemonica/alura-voz/refs/heads/main/Dados/Telco-Customer-Churn.json\"\n",
    "response = requests.get(url)\n",
    "data = response.json()\n",
    "\n",
    "df_plano = pd.json_normalize(data)\n",
    "print(\"✅ Datos cargados exitosamente\")"
   ]
  },
  {
   "cell_type": "markdown",
   "id": "7881dd53",
   "metadata": {},
   "source": [
    "## 🔍 Exploración inicial"
   ]
  },
  {
   "cell_type": "code",
   "execution_count": null,
   "id": "6015d45e",
   "metadata": {},
   "outputs": [],
   "source": [
    "# Información general\n",
    "df_plano.info()\n",
    "\n",
    "# Duplicados\n",
    "print(f\"🔍 Número de duplicados: {df_plano.duplicated().sum()}\")\n",
    "\n",
    "# Nulos por columna\n",
    "print(\"🔍 Nulos por columna:\\n\", df_plano.isnull().sum())\n",
    "\n",
    "# Vacíos o blancos\n",
    "print(\"🔍 Valores en blanco por columna:\\n\", df_plano.apply(lambda x: x.astype(str).str.strip() == '').sum())"
   ]
  },
  {
   "cell_type": "code",
   "execution_count": null,
   "id": "d882c1a3",
   "metadata": {},
   "outputs": [],
   "source": [
    "# Valores únicos por columna\n",
    "for col in df_plano.columns:\n",
    "    print(f\"\\n🧠 Columna: {col}\")\n",
    "    print(f\"Valores únicos: {df_plano[col].nunique()}\")\n",
    "    if df_plano[col].nunique() < 50:\n",
    "        print(df_plano[col].unique())\n",
    "        print('-' * 50)"
   ]
  },
  {
   "cell_type": "markdown",
   "id": "4e0ac613",
   "metadata": {},
   "source": [
    "## 🧹 Transformación de columnas"
   ]
  },
  {
   "cell_type": "code",
   "execution_count": null,
   "id": "8f11818a",
   "metadata": {},
   "outputs": [],
   "source": [
    "# Convertir 'account.Charges.Total' a numérico\n",
    "df_plano['account.Charges.Total'] = pd.to_numeric(df_plano['account.Charges.Total'], errors='coerce')\n",
    "print(f\"Tipo de dato de 'account.Charges.Total': {df_plano['account.Charges.Total'].dtype}\")\n",
    "\n",
    "# Eliminar filas sin valor en 'Churn'\n",
    "df_plano = df_plano[df_plano['Churn'].str.strip() != '']\n",
    "print(f\"✅ Filas después de limpiar 'Churn': {len(df_plano)}\")"
   ]
  },
  {
   "cell_type": "markdown",
   "id": "afbf3716",
   "metadata": {},
   "source": [
    "## 📈 Estadísticas y limpieza extra"
   ]
  },
  {
   "cell_type": "code",
   "execution_count": null,
   "id": "1fe0c45d",
   "metadata": {},
   "outputs": [],
   "source": [
    "# Estadísticas básicas\n",
    "print(df_plano.describe(include='all'))\n",
    "\n",
    "# Eliminar columna temporal si existe\n",
    "df_plano = df_plano.drop('Cuentas_Diarias', errors='ignore')"
   ]
  },
  {
   "cell_type": "markdown",
   "id": "c21d6176",
   "metadata": {},
   "source": [
    "## 📊 Visualización con Plotly"
   ]
  },
  {
   "cell_type": "code",
   "execution_count": null,
   "id": "2df56308",
   "metadata": {},
   "outputs": [],
   "source": [
    "fig = px.histogram(\n",
    "    df_plano,\n",
    "    x='customer.gender',\n",
    "    color='Churn',\n",
    "    barmode='group',\n",
    "    text_auto=True,\n",
    "    title='📊 Cancelaciones por Género'\n",
    ")\n",
    "fig.update_layout(xaxis_title='Género', yaxis_title='Cantidad de Clientes')\n",
    "fig.show()"
   ]
  }
 ],
 "metadata": {},
 "nbformat": 4,
 "nbformat_minor": 5
}
